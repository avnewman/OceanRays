{
 "cells": [
  {
   "cell_type": "code",
   "execution_count": 1,
   "id": "a00e645e",
   "metadata": {},
   "outputs": [
    {
     "name": "stderr",
     "output_type": "stream",
     "text": [
      "/Users/an77/anaconda3/envs/oceanrays/lib/python3.13/site-packages/seabird/cnv.py:3: UserWarning: pkg_resources is deprecated as an API. See https://setuptools.pypa.io/en/latest/pkg_resources.html. The pkg_resources package is slated for removal as early as 2025-11-30. Refrain from using this package or pin to Setuptools<81.\n",
      "  import pkg_resources\n"
     ]
    }
   ],
   "source": [
    "import numpy as np\n",
    "import matplotlib.pyplot as plt\n",
    "\n",
    "# ray tracing\n",
    "from OceanRays.SoundSpeed import CTDSoundSpeed\n",
    "from OceanRays.RayPaths import RayTrace, plotProfileRaypaths\n",
    "# build tables\n",
    "from OceanRays.TravelTimes import interpXZT,buildTTLookupTable\n",
    "# read existing tt-table\n",
    "import pickle\n",
    "# read CTD data\n",
    "from seabird.cnv import fCNV\n",
    "\n",
    "import time\n",
    "# run simple ray-path calculations through a theoretical (Munk) sound speed profile\n",
    "# be careful of low angles when in the sofar channel for obvious reasons (waveguides)\n",
    "initial_depth = 6000  # meters\n",
    "max_range = 50e3    # meters (lateral distance)\n",
    "angles = [-80, -65, -50, -35] # degrees\n",
    " \n",
    "# From CTD Data\n",
    "infile='../CTD_examples/SKQ202409S_009avg.cnv'\n",
    "profile = fCNV(infile) \n",
    "\n",
    "CMac = CTDSoundSpeed(profile, model='Mackenzie')\n"
   ]
  },
  {
   "cell_type": "code",
   "execution_count": 2,
   "id": "0237729c",
   "metadata": {},
   "outputs": [
    {
     "name": "stdout",
     "output_type": "stream",
     "text": [
      "Building lookup table for travel time by (range, initial_depth)... (parallelized)\n",
      "Progress: 100/5226\n",
      "Progress: 200/5226\n",
      "Progress: 300/5226\n",
      "Progress: 400/5226\n",
      "Progress: 500/5226\n",
      "Progress: 600/5226\n",
      "Progress: 700/5226\n",
      "Progress: 800/5226\n",
      "Progress: 900/5226\n",
      "Progress: 1000/5226\n",
      "Progress: 1100/5226\n",
      "Progress: 1200/5226\n",
      "Progress: 1300/5226\n",
      "Progress: 1400/5226\n",
      "Progress: 1500/5226\n",
      "Progress: 1600/5226\n",
      "Progress: 1700/5226\n",
      "Progress: 1800/5226\n",
      "Progress: 1900/5226\n",
      "Progress: 2000/5226\n",
      "Progress: 2100/5226\n",
      "Progress: 2200/5226\n",
      "Progress: 2300/5226\n",
      "Progress: 2400/5226\n",
      "Progress: 2500/5226\n",
      "Progress: 2600/5226\n",
      "Progress: 2700/5226\n",
      "Progress: 2800/5226\n",
      "Progress: 2900/5226\n",
      "Progress: 3000/5226\n",
      "Progress: 3100/5226\n",
      "Progress: 3200/5226\n",
      "Progress: 3300/5226\n",
      "Progress: 3400/5226\n",
      "Progress: 3500/5226\n",
      "Progress: 3600/5226\n",
      "Progress: 3700/5226\n",
      "Progress: 3800/5226\n",
      "Progress: 3900/5226\n",
      "Progress: 4000/5226\n",
      "Progress: 4100/5226\n",
      "Progress: 4200/5226\n",
      "Progress: 4300/5226\n",
      "Progress: 4400/5226\n",
      "Progress: 4500/5226\n",
      "Progress: 4600/5226\n",
      "Progress: 4700/5226\n",
      "Progress: 4800/5226\n",
      "Progress: 4900/5226\n",
      "Progress: 5000/5226\n",
      "Progress: 5100/5226\n",
      "Progress: 5200/5226\n",
      "Progress: 5226/5226\n",
      "Lookup table size: 5226 entries.\n",
      "By default, lookup table will be saved as TTtable.pkl.  This doesn't need to be reran for same area\n"
     ]
    }
   ],
   "source": [
    "# now loop over array of angles and depths\n",
    "min_depth=5000 # meters   (only need to build table for your specific depth and distance ranges.  Doing more now for vis)\n",
    "max_depth=6000 # meters\n",
    "dz=40 # meters (smaller steps are more accurate but more computationally expensive)\n",
    "\n",
    "min_angle = -90 # degrees\n",
    "max_angle = -40 # degrees\n",
    "da = 0.25 # degrees (see dz)\n",
    "max_range_m = 50000  # meters (max distance to calc ray path)\n",
    "\n",
    "dt = 0.02  # seconds (see dz)\n",
    "\n",
    "# Munk example\n",
    "#lookupxzt = buildTTLookupTable([min_angle,max_angle,da],[min_depth,max_depth,dz],maxRange=max_range_m, dt=dt)\n",
    "\n",
    "# using real data (much slower)\n",
    "lookupxzt = buildTTLookupTable([min_angle,max_angle,da],[min_depth,max_depth,dz],maxRange=max_range_m, zProfile=profile['DEPTH'],cProfile=CMac, dt=dt)\n",
    "print(f\"Lookup table size: {len(lookupxzt)} entries.\");\n",
    "print(\"By default, lookup table will be saved as TTtable.pkl.  This doesn't need to be reran for same area\")\n",
    "\n",
    "#mv TTtable.pkl CTD_examples/SKQ_009_TTtable_0-6kz20mdz_90-40deg0.1daz_0.02dt.pkl"
   ]
  },
  {
   "cell_type": "code",
   "execution_count": 3,
   "id": "8f3d8092",
   "metadata": {},
   "outputs": [
    {
     "name": "stdout",
     "output_type": "stream",
     "text": [
      "Predicted Travel Times: [3.39968374 3.39974325 3.39980279 ... 4.95498222 4.9552041  4.95542599]\n",
      "Calculations for  10001 times: 0.5088870525360107\n"
     ]
    }
   ],
   "source": [
    "# Example usage:\n",
    "# Once a table is created and loaded, determining the travel time to a specific point or distances is very fast\n",
    "# If you make a very detailed model, the interpolation will take longer, but I don't see a noticable (few %) change\n",
    "# when increasing the vector inputs by an order of magnitude.  Thus,  it'd be better to make\n",
    "# a single vectorized call for all distances than to call over and over again.\n",
    "\n",
    "x = np.linspace(1000, 5500, 10001)\n",
    "z = np.linspace(5000, 5000, 10001) \n",
    "\n",
    "start = time.time()\n",
    "tcubic = interpXZT(x, z, lookupxzt, method='cubic')\n",
    "end = time.time()\n",
    "\n",
    "print(\"Predicted Travel Times:\", tcubic)\n",
    "print(\"Calculations for \", len(tcubic), \"times:\", end - start)"
   ]
  },
  {
   "cell_type": "code",
   "execution_count": 4,
   "id": "8a9e5ac8",
   "metadata": {},
   "outputs": [],
   "source": [
    "# Load a saved version that has much higher sampling (only between 4500 and 6000 m depth)\n",
    "lookupxzt2 = pickle.load(open(\"../CTD_examples/SKQ_009_TTtable.pkl\", \"rb\"))"
   ]
  },
  {
   "cell_type": "code",
   "execution_count": 5,
   "id": "ef42d16e",
   "metadata": {},
   "outputs": [
    {
     "name": "stdout",
     "output_type": "stream",
     "text": [
      "Predicted Travel Times: [3.39968374 3.39974325 3.39980279 ... 4.95498222 4.9552041  4.95542599]\n",
      "Predicted Travel Times: [3.40513472 3.40519317 3.40525169 ... 4.96298326 4.96320586 4.96342856]\n",
      "Calculations for  10001 times: 0.7369787693023682\n"
     ]
    }
   ],
   "source": [
    "\n",
    "print(\"Predicted Travel Times:\", tcubic)\n",
    "start = time.time()\n",
    "tcubic = interpXZT(x, z, lookupxzt2, method='cubic')\n",
    "end = time.time()\n",
    "\n",
    "print(\"Predicted Travel Times:\", tcubic)\n",
    "print(\"Calculations for \", len(tcubic), \"times:\", end - start)\n"
   ]
  },
  {
   "cell_type": "code",
   "execution_count": 6,
   "id": "3de638a2",
   "metadata": {},
   "outputs": [
    {
     "data": {
      "image/png": "[encoded data removed]",
      "text/plain": [
       "<Figure size 1000x600 with 2 Axes>"
      ]
     },
     "metadata": {},
     "output_type": "display_data"
    }
   ],
   "source": [
    "import matplotlib.pyplot as plt\n",
    "import numpy as np\n",
    "\n",
    "# Prepare data for contour plot from lookupxzt\n",
    "lookup_XZ = np.array(list(lookupxzt.keys()))  # shape (N, 2): columns are (range, depth)\n",
    "lookup_times = np.array(list(lookupxzt.values()))  # shape (N,)\n",
    "\n",
    "# Create grid for contour plot\n",
    "range_grid = np.linspace(lookup_XZ[:,0].min(), lookup_XZ[:,0].max(), 200)\n",
    "depth_grid = np.linspace(lookup_XZ[:,1].min(), lookup_XZ[:,1].max(), 200)\n",
    "R, D = np.meshgrid(range_grid, depth_grid)\n",
    "points = np.column_stack([R.ravel(), D.ravel()])\n",
    "\n",
    "from scipy.interpolate import griddata\n",
    "T = griddata(lookup_XZ, lookup_times, points, method='linear')\n",
    "T = T.reshape(R.shape)\n",
    "\n",
    "plt.figure(figsize=(10,6))\n",
    "contour = plt.contourf(R, D, T, levels=30, cmap='rainbow')\n",
    "plt.colorbar(contour, label='Travel Time (s)')\n",
    "plt.xlabel('Range (m)')\n",
    "plt.ylabel('Initial Depth (m)')\n",
    "plt.title('Contour Plot of Travel Time to Surface')\n",
    "plt.gca().set_aspect('equal', adjustable='box')\n",
    "plt.gca().invert_yaxis()\n",
    "plt.show()"
   ]
  },
  {
   "cell_type": "code",
   "execution_count": null,
   "id": "68d29d61",
   "metadata": {},
   "outputs": [],
   "source": []
  }
 ],
 "metadata": {
  "kernelspec": {
   "display_name": "oceanrays",
   "language": "python",
   "name": "python3"
  },
  "language_info": {
   "codemirror_mode": {
    "name": "ipython",
    "version": 3
   },
   "file_extension": ".py",
   "mimetype": "text/x-python",
   "name": "python",
   "nbconvert_exporter": "python",
   "pygments_lexer": "ipython3",
   "version": "3.13.5"
  }
 },
 "nbformat": 4,
 "nbformat_minor": 5
}
