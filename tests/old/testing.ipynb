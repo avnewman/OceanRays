{
 "cells": [
  {
   "cell_type": "markdown",
   "id": "fd9ef9fa",
   "metadata": {},
   "source": [
    "# Taup for ray tracing in the water\n"
   ]
  },
  {
   "cell_type": "markdown",
   "id": "3d70158d",
   "metadata": {},
   "source": [
    "## *Abandoned attempt b/c Taup is quite picky and fails with little warning.  Will create own ray trace only for H2O*"
   ]
  },
  {
   "cell_type": "code",
   "execution_count": 39,
   "id": "b0053fb0",
   "metadata": {},
   "outputs": [],
   "source": [
    "import obspy.taup as taup\n",
    "from obspy.taup.velocity_model import VelocityModel\n",
    "from obspy.taup.taup_create import build_taup_model\n",
    "import os \n",
    "import numpy as np\n",
    "# Description of the taup velocity models are here\n",
    "# https://www.seis.sc.edu/webtaup/doc/models.html#using-saved-tau-models\n"
   ]
  },
  {
   "cell_type": "code",
   "execution_count": null,
   "id": "0b4469a9",
   "metadata": {},
   "outputs": [
    {
     "name": "stdout",
     "output_type": "stream",
     "text": [
      "Building obspy.taup model for 'ocean_iasp91.tvel' ...\n",
      "filename = ocean_iasp91.tvel\n",
      "Done reading velocity model.\n",
      "Radius of model  is 6371.0\n",
      "Using parameters provided in TauP_config.ini (or defaults if not) to call SlownessModel...\n",
      "Parameters are:\n",
      "taup.create.min_delta_p = 0.1 sec / radian\n",
      "taup.create.max_delta_p = 11.0 sec / radian\n",
      "taup.create.max_depth_interval = 115.0 kilometers\n",
      "taup.create.max_range_interval = 0.04363323129985824 degrees\n",
      "taup.create.max_interp_error = 0.05 seconds\n",
      "taup.create.allow_inner_core_s = True\n",
      "Slow model  495 P layers,869 S layers\n",
      "Done calculating Tau branches.\n",
      "Done Saving /Users/an77/Documents/Projects/SeaFloorGeodesy/RayTracing/ocean_iasp91.npz\n",
      "Method run is done, but not necessarily successful.\n"
     ]
    }
   ],
   "source": [
    "filename = \"test_simple.tvel\"\n",
    "filename = \"ocean_iasp91.tvel\"\n",
    "\n",
    "model=VelocityModel.read_tvel_file(filename)\n",
    "assert model.validate() # check that the modelshould work.  \n",
    "# note that the model cannot deal with a zero S-wave velocity at the surface\n",
    "\n",
    "# should create models with the CTD casts and include only a rudimentary whole-earth model.  \n",
    "# the ray tracer will take too long otherwise.\n",
    "\n",
    "model = build_taup_model(filename, output_folder=os.getcwd())\n",
    "\n"
   ]
  },
  {
   "cell_type": "code",
   "execution_count": 42,
   "id": "b91d738f",
   "metadata": {},
   "outputs": [
    {
     "ename": "ValueError",
     "evalue": "File type could not be determined, please rename your file to end with .tvel or .nd",
     "output_type": "error",
     "traceback": [
      "\u001b[0;31m---------------------------------------------------------------------------\u001b[0m",
      "\u001b[0;31mValueError\u001b[0m                                Traceback (most recent call last)",
      "Cell \u001b[0;32mIn[42], line 1\u001b[0m\n\u001b[0;32m----> 1\u001b[0m model\u001b[38;5;241m=\u001b[39mVelocityModel\u001b[38;5;241m.\u001b[39mread_velocity_file(\u001b[38;5;124m'\u001b[39m\u001b[38;5;124mocean_iasp91.npz\u001b[39m\u001b[38;5;124m'\u001b[39m)\n\u001b[1;32m      2\u001b[0m dx\u001b[38;5;241m=\u001b[39m\u001b[38;5;241m0.1\u001b[39m\n\u001b[1;32m      3\u001b[0m x\u001b[38;5;241m=\u001b[39mnp\u001b[38;5;241m.\u001b[39mlinspace(\u001b[38;5;241m0\u001b[39m,\u001b[38;5;241m5\u001b[39m, num\u001b[38;5;241m=\u001b[39m\u001b[38;5;28mint\u001b[39m(\u001b[38;5;241m90\u001b[39m\u001b[38;5;241m/\u001b[39mdx)\u001b[38;5;241m+\u001b[39m\u001b[38;5;241m1\u001b[39m)\n",
      "File \u001b[0;32m~/anaconda3/envs/rtergpy/lib/python3.11/site-packages/obspy/taup/velocity_model.py:377\u001b[0m, in \u001b[0;36mVelocityModel.read_velocity_file\u001b[0;34m(cls, filename)\u001b[0m\n\u001b[1;32m    375\u001b[0m     v_mod \u001b[38;5;241m=\u001b[39m \u001b[38;5;28mcls\u001b[39m\u001b[38;5;241m.\u001b[39mread_tvel_file(filename)\n\u001b[1;32m    376\u001b[0m \u001b[38;5;28;01melse\u001b[39;00m:\n\u001b[0;32m--> 377\u001b[0m     \u001b[38;5;28;01mraise\u001b[39;00m \u001b[38;5;167;01mValueError\u001b[39;00m(\u001b[38;5;124m\"\u001b[39m\u001b[38;5;124mFile type could not be determined, please \u001b[39m\u001b[38;5;124m\"\u001b[39m\n\u001b[1;32m    378\u001b[0m                      \u001b[38;5;124m\"\u001b[39m\u001b[38;5;124mrename your file to end with .tvel or .nd\u001b[39m\u001b[38;5;124m\"\u001b[39m)\n\u001b[1;32m    380\u001b[0m v_mod\u001b[38;5;241m.\u001b[39mfix_discontinuity_depths()\n\u001b[1;32m    381\u001b[0m \u001b[38;5;28;01mreturn\u001b[39;00m v_mod\n",
      "\u001b[0;31mValueError\u001b[0m: File type could not be determined, please rename your file to end with .tvel or .nd"
     ]
    }
   ],
   "source": [
    "model=VelocityModel.read_velocity_file('ocean_iasp91.npz')\n",
    "dx=0.1\n",
    "x=np.linspace(0,5, num=int(90/dx)+1)\n",
    "t=np.zeros_like(x)\n",
    "slowness_tp=np.zeros_like(x)\n",
    "depth=0\n",
    "for i, dist in enumerate(x):\n",
    "    arrival=model.get_ray_paths(source_depth_in_km=depth, phase_list=[\"P\"], distance_in_degree=dist)\n",
    "    slow=arrival[0].ray_param_sec_degree   \n",
    "    t[i]=arrival[0].time\n",
    "    slowness_tp[i]=slow\n"
   ]
  },
  {
   "cell_type": "code",
   "execution_count": null,
   "id": "4be31987",
   "metadata": {},
   "outputs": [],
   "source": []
  }
 ],
 "metadata": {
  "kernelspec": {
   "display_name": "rtergpy",
   "language": "python",
   "name": "python3"
  },
  "language_info": {
   "codemirror_mode": {
    "name": "ipython",
    "version": 3
   },
   "file_extension": ".py",
   "mimetype": "text/x-python",
   "name": "python",
   "nbconvert_exporter": "python",
   "pygments_lexer": "ipython3",
   "version": "3.11.3"
  }
 },
 "nbformat": 4,
 "nbformat_minor": 5
}
